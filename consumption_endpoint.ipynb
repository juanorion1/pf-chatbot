{
 "cells": [
  {
   "cell_type": "code",
   "execution_count": 17,
   "metadata": {},
   "outputs": [],
   "source": [
    "import urllib.request\n",
    "import json\n",
    "import os\n",
    "import ssl\n",
    "import requests\n",
    "\n",
    "def allowSelfSignedHttps(allowed):\n",
    "    # bypass the server certificate verification on client side\n",
    "    if allowed and not os.environ.get('PYTHONHTTPSVERIFY', '') and getattr(ssl, '_create_unverified_context', None):\n",
    "        ssl._create_default_https_context = ssl._create_unverified_context\n",
    "\n",
    "allowSelfSignedHttps(True) # this line is needed if you use self-signed certificate in your scoring service.\n",
    "\n",
    "\n"
   ]
  },
  {
   "cell_type": "code",
   "execution_count": 18,
   "metadata": {},
   "outputs": [],
   "source": [
    "# Request data goes here\n",
    "# The example below assumes JSON formatting which may be updated\n",
    "# depending on the format your endpoint expects.\n",
    "# More information can be found here:\n",
    "# https://docs.microsoft.com/azure/machine-learning/how-to-deploy-advanced-entry-script\n",
    "data = [\n",
    "        {\n",
    "            \"role\": \"user\",\n",
    "            \"content\": \"quien es el presidente de colombia?\",\n",
    "        },\n",
    "        {\n",
    "            \"role\": \"assistant\",\n",
    "            \"content\": \"Este asistente de IA no contiene información por fuera del contexto del grupo BIMBO\"\n",
    "        },\n",
    "        {\n",
    "            \"role\": \"user\",\n",
    "            \"content\": \"puedes ayudarme con información del grupo bimbo?\"\n",
    "        }\n",
    "    ]\n",
    "\n",
    "\n",
    "body = str.encode(json.dumps(data))\n",
    "\n",
    "url = 'https://pf-chatbot-demo.eastus2.inference.ml.azure.com/score'\n",
    "# Replace this with the primary/secondary key, AMLToken, or Microsoft Entra ID token for the endpoint\n",
    "api_key = 'CE8fr6a23fKQ4DPolARhz3GPhndj08LP'\n",
    "if not api_key:\n",
    "    raise Exception(\"A key should be provided to invoke the endpoint\")\n",
    "\n",
    "# The azureml-model-deployment header will force the request to go to a specific deployment.\n",
    "# Remove this header to have the request observe the endpoint traffic rules\n",
    "headers = {'Content-Type':'application/json', 'Authorization':('Bearer '+ api_key), 'azureml-model-deployment': 'pf-chatbot-demo' }\n",
    "\n",
    "req = urllib.request.Request(url, body, headers)\n"
   ]
  },
  {
   "cell_type": "code",
   "execution_count": 19,
   "metadata": {},
   "outputs": [
    {
     "name": "stdout",
     "output_type": "stream",
     "text": [
      "b'{\"documents\":[{\"chunk_id\":\"0\",\"content\":\"Title: Grupo Bimbo\\\\n\\\\nGrupo Bimbo\\\\n\\\\nGrupo Bimbo, S.A.B. de C.V. (simplemente conocida como Bimbo), es una empresa multinacional mexicana fundada el 2 de diciembre de 1945 en la Ciudad de M\\\\u00e9xico,2\\\\u200b que tiene presencia en 45 pa\\\\u00edses de Am\\\\u00e9rica, Europa, Asia y \\\\u00c1frica3\\\\u200b y cuenta con un volumen de ventas anuales de 19.8 mil millones de d\\\\u00f3lares.4\\\\u200b Cotiza sus acciones en la Bolsa Mexicana de Valores, bajo la clave BIMBO.5\\\\u200b\\\\n\\\\nLa empresa cuenta con m\\\\u00e1s de 139 mil colaboradores,6\\\\u200b204 plantas panificadoras,\\\\u200b 3.3 millones de puntos de venta y una red de distribuci\\\\u00f3n con 55 mil rutas en todo el planeta.8\\\\u200b Asimismo, Grupo Bimbo opera m\\\\u00e1s de 100 marcas y m\\\\u00e1s de 9 mil productos alrededor del mundo,9\\\\u200b entre los que destacan: Bimbo, T\\\\u00eda Rosa, Entenmann\\\\u00b4s, Pullman, Rainbo, Nutrella, Marinela, Oroweat, Sara Lee, Thomas\\\\u00b4, Arnold y Barcel, por mencionar algunas.10\\\\u200b Dentro de sus asociaciones estrat\\\\u00e9gicas se encuentran \\\\u00abAlicorp\\\\u00bb (Per\\\\u00fa), \\\\u00abBlue Label\\\\u00bb (M\\\\u00e9xico), \\\\u00abFincom\\\\u00fan\\\\u00bb, \\\\u00abGalletas La Moderna\\\\u00bb, \\\\u00abGrupo Nutresa\\\\u00bb (Colombia), \\\\u00abMundo Dulce\\\\u00bb (\\\\u00abArcor\\\\u00bb) (Argentina), \\\\u00abPanGlo\\\\u00bb y \\\\u00abRich\\'s\\\\u00bb.11\\\\u200b\\\\n\\\\nDesde 1997, Daniel Servitje Montull fung\\\\u00eda como director general y, desde 2013, como el presidente del Consejo.12\\\\u200bA partir de 2024, actual Presidente Ejecutivo de Grupo Bimbo.\\\\n\\\\nHistoria\\\\nGrupo Bimbo inici\\\\u00f3 operaciones en M\\\\u00e9xico el d\\\\u00eda 5 de diciembre de 1945, con el nombre oficial de Panificaci\\\\u00f3n Bimbo, S.A.13\\\\u200b La compa\\\\u00f1\\\\u00eda comenz\\\\u00f3 con 34 empleados,14\\\\u200b vendiendo pan de caja blanco (grande y chico), pan tostado y pan negro, envueltos en celof\\\\u00e1n.15\\\\u200b Lorenzo Servitje Sendra junto con Jos\\\\u00e9 T. Mata, Jaime Sendra Grimau, Jaime Jorba Sendra y Alfonso Velasco fueron los socios que comenzaron esta empresa de panificaci\\\\u00f3n.14\\\\u200b16\\\\u200b\\\\n\\\\nEl nombre Bimbo fue elegido entre otras candidatos como PanRex, Pan NSE (por Nutritivo Sabroso y Econ\\\\u00f3mico), Sabrosoy, Pan Lirio y Pan Azteca.17\\\\u200b Tiempo despu\\\\u00e9s los fundadores se enteraron de que Bimbo tambi\\\\u00e9n es la manera coloquial en que los italianos le dicen a los ni\\\\u00f1os (acortado de bambino) y que en China el fonema para designar al pan, es casi id\\\\u00e9ntico al nombre de la marca.18\\\\u200b\\\\n\\\\nDe igual manera, el embajador de la marca, el Osito Bimbo, naci\\\\u00f3 en 1945, con la participaci\\\\u00f3n de los socios fundadores.19\\\\u200b Todo comenz\\\\u00f3 con el dibujo de un oso en una tarjeta de Navidad que lleg\\\\u00f3 a Jaime Jorba. Anita Mata, esposa de Jaime Sendra, fue quien a\\\\u00f1adi\\\\u00f3 sus rasgos caracter\\\\u00edsticos que son el gorro, el delantal y el pan bajo el brazo.20\\\\u200b Por \\\\u00faltimo, Alfonso Velasco arregl\\\\u00f3 la forma de la nariz para completar este personaje que representa limpieza, blancura y suavidad\",\"filepath\":\"bimbo.txt\",\"metadata\":null,\"score\":0.06505334374186833,\"title\":\"Grupo Bimbo\",\"url\":\"bimbo.txt\"},{\"chunk_id\":\"1\",\"content\":\"21\\\\u200b\\\\n\\\\nInicios del Grupo Bimbo\\\\nEn sus primeros a\\\\u00f1os, el Grupo Bimbo comenz\\\\u00f3 a posicionarse en el gusto de las familias mexicanas gracias a la calidad de sus productos; para 1948 ya contaba con nueve variedades distintas entre las que destacan el pan blanco, pan tostado, pan negro, pan de dulce, bollos y panqu\\\\u00e9s.22\\\\u200b Gracias a este crecimiento en la producci\\\\u00f3n, en 1949 se abre la primera agencia for\\\\u00e1nea en el estado mexicano de Puebla.23\\\\u200b\\\\n\\\\nPara la d\\\\u00e9cada de 1950, el Grupo Bimbo llev\\\\u00f3 sus productos a m\\\\u00e1s personas con el \\\\u201c38\\\\u201d, un veh\\\\u00edculo con altavoces, tocadiscos y micr\\\\u00f3fonos.24\\\\u200b De igual manera, al poco tiempo la variedad de pan se ampli\\\\u00f3 a las Donas del Osito, los Bimbollos, Medias Noches y Colchones (1952).25\\\\u200b\\\\n\\\\nAl cumplir 10 a\\\\u00f1os en 1955\",\"filepath\":\"bimbo.txt\",\"metadata\":null,\"score\":0.04838709677419355,\"title\":\"Grupo Bimbo\",\"url\":\"bimbo.txt\"},{\"chunk_id\":\"0\",\"content\":\"Title: Grupo Bimbo\\\\n\\\\n, el Grupo Bimbo contaba ya con 700 colaboradores y 140 veh\\\\u00edculos,26\\\\u200b los cuales se complementaron, en 1956, con la apertura de la f\\\\u00e1brica de Bimbo de Occidente (Guadalajara), con Roberto Servitje como director general;27\\\\u200b y con la llegada en empaque individual del Gansito, un pastelillo cubierto de chocolate, relleno de crema y mermelada de fresa en 1958.23\\\\u200b\\\\n\\\\nA\\\\u00f1os 60 y 70\\\\nEn los a\\\\u00f1os 60, Grupo Bimbo continu\\\\u00f3 expandi\\\\u00e9ndose con su llegada a Monterrey, Nuevo Le\\\\u00f3n,28\\\\u200b y su primera restructuraci\\\\u00f3n administrativa en 1963, con la que se crea su estructura corporativa. Asimismo, un a\\\\u00f1o m\\\\u00e1s tarde, 1964, adquiere los derechos, en M\\\\u00e9xico, de la marca Sunbeam de Quality Bakers of America.29\\\\u200b\\\\n\\\\nPor otro lado, en los a\\\\u00f1os 70, Grupo Bimbo tuvo un crecimiento importante en diferentes \\\\u00e1reas. En 1971 inici\\\\u00f3 operaciones Barcel, una de sus marcas m\\\\u00e1s representativas;30\\\\u200b en 1972 la compa\\\\u00f1\\\\u00eda abre su planta panificadora localizada en Azcapotzalco, Ciudad de M\\\\u00e9xico, que ser\\\\u00eda, en ese entonces, la m\\\\u00e1s grande de Hispanoam\\\\u00e9rica y una de las 10 m\\\\u00e1s grandes de todo el mundo.31\\\\u200b\\\\n\\\\nEn cuanto a su negocio, la empresa incursiona en el mercado de las mermeladas con Carmel (1973), nace Suandy y T\\\\u00eda Rosa (1974),32\\\\u200b comienza la elaboraci\\\\u00f3n de Conchas Bimbo (1975)31\\\\u200b y se crea Ricolino, la marca l\\\\u00edder de dulces y chocolates de la empresa, con el famoso Bubulubu (1978).33\\\\u200b\\\\n\\\\nPara finales de esta d\\\\u00e9cada, Grupo Bimbo se constituye de tres empresas, 12 plantas y 15 mil colaboradores; adem\\\\u00e1s, Roberto Servitje es nombrado director general.34\\\\u200b\\\\n\\\\nA\\\\u00f1os 80 y 90\\\\nAl inicio de la d\\\\u00e9cada de los 80, Grupo Bimbo presenta relevantes cambios internos y externos. En primera instancia, inici\\\\u00f3 operaciones en la Bolsa Mexicana de Valores (BMV), cotizando el 15% de sus acciones,35\\\\u200b y en 1986 se gener\\\\u00f3 una nueva estructura organizacional, a partir de la cual se crea un solo grupo industrial.36\\\\u200b\\\\n\\\\nDe igual manera, en estos a\\\\u00f1os, comenz\\\\u00f3 a exportar productos a Estados Unidos (1984)37\\\\u200b y se crea Bimbo Centroam\\\\u00e9rica (1989) con la construcci\\\\u00f3n de una planta en Guatemala, la cual se culmin\\\\u00f3 en 1990.38\\\\u200b\\\\n\\\\nEn los inicios de los a\\\\u00f1os 90, a\\\\u00f1adi\\\\u00f3 las tortillas Milpa Real, Del Hogar, Candy Max y Lonchibon a sus marcas.39\\\\u200b En 1993, inaugur\\\\u00f3 su nuevo edificio corporativo en Santa Fe, Ciudad de M\\\\u00e9xico y en 1995 adquiri\\\\u00f3 la empresa Coronado, especializada en la fabricaci\\\\u00f3n de productos con cajeta.40\\\\u200b\\\\n\\\\nEn esta d\\\\u00e9cada tambi\\\\u00e9n se dio una mayor expansi\\\\u00f3n en Hispanoam\\\\u00e9rica con la apertura de Bimbo en Argentina y el corporativo de la regi\\\\u00f3n (1991),41\\\\u200b as\\\\u00ed como de la planta de Ideal en Chile (1995).42\\\\u200b\\\\n\\\\nPor \\\\u00faltimo, 1997 marc\\\\u00f3 un nuevo rumbo en todas las operaciones de Grupo Bimbo a nivel global, con el nombramiento de Daniel Servitje, como director general de la compa\\\\u00f1\\\\u00eda, y a\\\\u00f1adi\\\\u00f3 Galletas Lara como una nueva marca\",\"filepath\":\"bimbo.txt\",\"metadata\":null,\"score\":0.04813947436898257,\"title\":\"Grupo Bimbo\",\"url\":\"bimbo.txt\"}],\"reply\":\"\\\\u00bfCu\\\\u00e1ndo fue fundado Grupo Bimbo y cu\\\\u00e1ntos pa\\\\u00edses abarca?\"}\\n'\n"
     ]
    }
   ],
   "source": [
    "try:\n",
    "    response = urllib.request.urlopen(req)\n",
    "\n",
    "    result = response.read()\n",
    "    #result = result.decode('utf8').replace(\"'\", '\"').encode(\"utf-8\")\n",
    "    print(result)\n",
    "except urllib.error.HTTPError as error:\n",
    "    print(\"The request failed with status code: \" + str(error.code))\n",
    "\n",
    "    # Print the headers - they include the requert ID and the timestamp, which are useful for debugging the failure\n",
    "    print(error.info())\n",
    "    print(error.read().decode(\"utf8\", 'ignore'))"
   ]
  },
  {
   "cell_type": "code",
   "execution_count": 20,
   "metadata": {},
   "outputs": [
    {
     "data": {
      "text/plain": [
       "{'documents': [{'chunk_id': '0',\n",
       "   'content': \"Title: Grupo Bimbo\\n\\nGrupo Bimbo\\n\\nGrupo Bimbo, S.A.B. de C.V. (simplemente conocida como Bimbo), es una empresa multinacional mexicana fundada el 2 de diciembre de 1945 en la Ciudad de México,2\\u200b que tiene presencia en 45 países de América, Europa, Asia y África3\\u200b y cuenta con un volumen de ventas anuales de 19.8 mil millones de dólares.4\\u200b Cotiza sus acciones en la Bolsa Mexicana de Valores, bajo la clave BIMBO.5\\u200b\\n\\nLa empresa cuenta con más de 139 mil colaboradores,6\\u200b204 plantas panificadoras,\\u200b 3.3 millones de puntos de venta y una red de distribución con 55 mil rutas en todo el planeta.8\\u200b Asimismo, Grupo Bimbo opera más de 100 marcas y más de 9 mil productos alrededor del mundo,9\\u200b entre los que destacan: Bimbo, Tía Rosa, Entenmann´s, Pullman, Rainbo, Nutrella, Marinela, Oroweat, Sara Lee, Thomas´, Arnold y Barcel, por mencionar algunas.10\\u200b Dentro de sus asociaciones estratégicas se encuentran «Alicorp» (Perú), «Blue Label» (México), «Fincomún», «Galletas La Moderna», «Grupo Nutresa» (Colombia), «Mundo Dulce» («Arcor») (Argentina), «PanGlo» y «Rich's».11\\u200b\\n\\nDesde 1997, Daniel Servitje Montull fungía como director general y, desde 2013, como el presidente del Consejo.12\\u200bA partir de 2024, actual Presidente Ejecutivo de Grupo Bimbo.\\n\\nHistoria\\nGrupo Bimbo inició operaciones en México el día 5 de diciembre de 1945, con el nombre oficial de Panificación Bimbo, S.A.13\\u200b La compañía comenzó con 34 empleados,14\\u200b vendiendo pan de caja blanco (grande y chico), pan tostado y pan negro, envueltos en celofán.15\\u200b Lorenzo Servitje Sendra junto con José T. Mata, Jaime Sendra Grimau, Jaime Jorba Sendra y Alfonso Velasco fueron los socios que comenzaron esta empresa de panificación.14\\u200b16\\u200b\\n\\nEl nombre Bimbo fue elegido entre otras candidatos como PanRex, Pan NSE (por Nutritivo Sabroso y Económico), Sabrosoy, Pan Lirio y Pan Azteca.17\\u200b Tiempo después los fundadores se enteraron de que Bimbo también es la manera coloquial en que los italianos le dicen a los niños (acortado de bambino) y que en China el fonema para designar al pan, es casi idéntico al nombre de la marca.18\\u200b\\n\\nDe igual manera, el embajador de la marca, el Osito Bimbo, nació en 1945, con la participación de los socios fundadores.19\\u200b Todo comenzó con el dibujo de un oso en una tarjeta de Navidad que llegó a Jaime Jorba. Anita Mata, esposa de Jaime Sendra, fue quien añadió sus rasgos característicos que son el gorro, el delantal y el pan bajo el brazo.20\\u200b Por último, Alfonso Velasco arregló la forma de la nariz para completar este personaje que representa limpieza, blancura y suavidad\",\n",
       "   'filepath': 'bimbo.txt',\n",
       "   'metadata': None,\n",
       "   'score': 0.06505334374186833,\n",
       "   'title': 'Grupo Bimbo',\n",
       "   'url': 'bimbo.txt'},\n",
       "  {'chunk_id': '1',\n",
       "   'content': '21\\u200b\\n\\nInicios del Grupo Bimbo\\nEn sus primeros años, el Grupo Bimbo comenzó a posicionarse en el gusto de las familias mexicanas gracias a la calidad de sus productos; para 1948 ya contaba con nueve variedades distintas entre las que destacan el pan blanco, pan tostado, pan negro, pan de dulce, bollos y panqués.22\\u200b Gracias a este crecimiento en la producción, en 1949 se abre la primera agencia foránea en el estado mexicano de Puebla.23\\u200b\\n\\nPara la década de 1950, el Grupo Bimbo llevó sus productos a más personas con el “38”, un vehículo con altavoces, tocadiscos y micrófonos.24\\u200b De igual manera, al poco tiempo la variedad de pan se amplió a las Donas del Osito, los Bimbollos, Medias Noches y Colchones (1952).25\\u200b\\n\\nAl cumplir 10 años en 1955',\n",
       "   'filepath': 'bimbo.txt',\n",
       "   'metadata': None,\n",
       "   'score': 0.04838709677419355,\n",
       "   'title': 'Grupo Bimbo',\n",
       "   'url': 'bimbo.txt'},\n",
       "  {'chunk_id': '0',\n",
       "   'content': 'Title: Grupo Bimbo\\n\\n, el Grupo Bimbo contaba ya con 700 colaboradores y 140 vehículos,26\\u200b los cuales se complementaron, en 1956, con la apertura de la fábrica de Bimbo de Occidente (Guadalajara), con Roberto Servitje como director general;27\\u200b y con la llegada en empaque individual del Gansito, un pastelillo cubierto de chocolate, relleno de crema y mermelada de fresa en 1958.23\\u200b\\n\\nAños 60 y 70\\nEn los años 60, Grupo Bimbo continuó expandiéndose con su llegada a Monterrey, Nuevo León,28\\u200b y su primera restructuración administrativa en 1963, con la que se crea su estructura corporativa. Asimismo, un año más tarde, 1964, adquiere los derechos, en México, de la marca Sunbeam de Quality Bakers of America.29\\u200b\\n\\nPor otro lado, en los años 70, Grupo Bimbo tuvo un crecimiento importante en diferentes áreas. En 1971 inició operaciones Barcel, una de sus marcas más representativas;30\\u200b en 1972 la compañía abre su planta panificadora localizada en Azcapotzalco, Ciudad de México, que sería, en ese entonces, la más grande de Hispanoamérica y una de las 10 más grandes de todo el mundo.31\\u200b\\n\\nEn cuanto a su negocio, la empresa incursiona en el mercado de las mermeladas con Carmel (1973), nace Suandy y Tía Rosa (1974),32\\u200b comienza la elaboración de Conchas Bimbo (1975)31\\u200b y se crea Ricolino, la marca líder de dulces y chocolates de la empresa, con el famoso Bubulubu (1978).33\\u200b\\n\\nPara finales de esta década, Grupo Bimbo se constituye de tres empresas, 12 plantas y 15 mil colaboradores; además, Roberto Servitje es nombrado director general.34\\u200b\\n\\nAños 80 y 90\\nAl inicio de la década de los 80, Grupo Bimbo presenta relevantes cambios internos y externos. En primera instancia, inició operaciones en la Bolsa Mexicana de Valores (BMV), cotizando el 15% de sus acciones,35\\u200b y en 1986 se generó una nueva estructura organizacional, a partir de la cual se crea un solo grupo industrial.36\\u200b\\n\\nDe igual manera, en estos años, comenzó a exportar productos a Estados Unidos (1984)37\\u200b y se crea Bimbo Centroamérica (1989) con la construcción de una planta en Guatemala, la cual se culminó en 1990.38\\u200b\\n\\nEn los inicios de los años 90, añadió las tortillas Milpa Real, Del Hogar, Candy Max y Lonchibon a sus marcas.39\\u200b En 1993, inauguró su nuevo edificio corporativo en Santa Fe, Ciudad de México y en 1995 adquirió la empresa Coronado, especializada en la fabricación de productos con cajeta.40\\u200b\\n\\nEn esta década también se dio una mayor expansión en Hispanoamérica con la apertura de Bimbo en Argentina y el corporativo de la región (1991),41\\u200b así como de la planta de Ideal en Chile (1995).42\\u200b\\n\\nPor último, 1997 marcó un nuevo rumbo en todas las operaciones de Grupo Bimbo a nivel global, con el nombramiento de Daniel Servitje, como director general de la compañía, y añadió Galletas Lara como una nueva marca',\n",
       "   'filepath': 'bimbo.txt',\n",
       "   'metadata': None,\n",
       "   'score': 0.04813947436898257,\n",
       "   'title': 'Grupo Bimbo',\n",
       "   'url': 'bimbo.txt'}],\n",
       " 'reply': '¿Cuándo fue fundado Grupo Bimbo y cuántos países abarca?'}"
      ]
     },
     "execution_count": 20,
     "metadata": {},
     "output_type": "execute_result"
    }
   ],
   "source": [
    "json.loads(result)"
   ]
  },
  {
   "cell_type": "code",
   "execution_count": 13,
   "metadata": {},
   "outputs": [
    {
     "data": {
      "text/plain": [
       "b'{\"documents\":[{\"chunk_id\":\"0\",\"content\":\"Title: Grupo Bimbo\\\\n\\\\n, el Grupo Bimbo contaba ya con 700 colaboradores y 140 veh\\\\u00edculos,26\\\\u200b los cuales se complementaron, en 1956, con la apertura de la f\\\\u00e1brica de Bimbo de Occidente (Guadalajara), con Roberto Servitje como director general;27\\\\u200b y con la llegada en empaque individual del Gansito, un pastelillo cubierto de chocolate, relleno de crema y mermelada de fresa en 1958.23\\\\u200b\\\\n\\\\nA\\\\u00f1os 60 y 70\\\\nEn los a\\\\u00f1os 60, Grupo Bimbo continu\\\\u00f3 expandi\\\\u00e9ndose con su llegada a Monterrey, Nuevo Le\\\\u00f3n,28\\\\u200b y su primera restructuraci\\\\u00f3n administrativa en 1963, con la que se crea su estructura corporativa. Asimismo, un a\\\\u00f1o m\\\\u00e1s tarde, 1964, adquiere los derechos, en M\\\\u00e9xico, de la marca Sunbeam de Quality Bakers of America.29\\\\u200b\\\\n\\\\nPor otro lado, en los a\\\\u00f1os 70, Grupo Bimbo tuvo un crecimiento importante en diferentes \\\\u00e1reas. En 1971 inici\\\\u00f3 operaciones Barcel, una de sus marcas m\\\\u00e1s representativas;30\\\\u200b en 1972 la compa\\\\u00f1\\\\u00eda abre su planta panificadora localizada en Azcapotzalco, Ciudad de M\\\\u00e9xico, que ser\\\\u00eda, en ese entonces, la m\\\\u00e1s grande de Hispanoam\\\\u00e9rica y una de las 10 m\\\\u00e1s grandes de todo el mundo.31\\\\u200b\\\\n\\\\nEn cuanto a su negocio, la empresa incursiona en el mercado de las mermeladas con Carmel (1973), nace Suandy y T\\\\u00eda Rosa (1974),32\\\\u200b comienza la elaboraci\\\\u00f3n de Conchas Bimbo (1975)31\\\\u200b y se crea Ricolino, la marca l\\\\u00edder de dulces y chocolates de la empresa, con el famoso Bubulubu (1978).33\\\\u200b\\\\n\\\\nPara finales de esta d\\\\u00e9cada, Grupo Bimbo se constituye de tres empresas, 12 plantas y 15 mil colaboradores; adem\\\\u00e1s, Roberto Servitje es nombrado director general.34\\\\u200b\\\\n\\\\nA\\\\u00f1os 80 y 90\\\\nAl inicio de la d\\\\u00e9cada de los 80, Grupo Bimbo presenta relevantes cambios internos y externos. En primera instancia, inici\\\\u00f3 operaciones en la Bolsa Mexicana de Valores (BMV), cotizando el 15% de sus acciones,35\\\\u200b y en 1986 se gener\\\\u00f3 una nueva estructura organizacional, a partir de la cual se crea un solo grupo industrial.36\\\\u200b\\\\n\\\\nDe igual manera, en estos a\\\\u00f1os, comenz\\\\u00f3 a exportar productos a Estados Unidos (1984)37\\\\u200b y se crea Bimbo Centroam\\\\u00e9rica (1989) con la construcci\\\\u00f3n de una planta en Guatemala, la cual se culmin\\\\u00f3 en 1990.38\\\\u200b\\\\n\\\\nEn los inicios de los a\\\\u00f1os 90, a\\\\u00f1adi\\\\u00f3 las tortillas Milpa Real, Del Hogar, Candy Max y Lonchibon a sus marcas.39\\\\u200b En 1993, inaugur\\\\u00f3 su nuevo edificio corporativo en Santa Fe, Ciudad de M\\\\u00e9xico y en 1995 adquiri\\\\u00f3 la empresa Coronado, especializada en la fabricaci\\\\u00f3n de productos con cajeta.40\\\\u200b\\\\n\\\\nEn esta d\\\\u00e9cada tambi\\\\u00e9n se dio una mayor expansi\\\\u00f3n en Hispanoam\\\\u00e9rica con la apertura de Bimbo en Argentina y el corporativo de la regi\\\\u00f3n (1991),41\\\\u200b as\\\\u00ed como de la planta de Ideal en Chile (1995).42\\\\u200b\\\\n\\\\nPor \\\\u00faltimo, 1997 marc\\\\u00f3 un nuevo rumbo en todas las operaciones de Grupo Bimbo a nivel global, con el nombramiento de Daniel Servitje, como director general de la compa\\\\u00f1\\\\u00eda, y a\\\\u00f1adi\\\\u00f3 Galletas Lara como una nueva marca\",\"filepath\":\"bimbo.txt\",\"metadata\":null,\"score\":0.01639344262295082,\"title\":\"Grupo Bimbo\",\"url\":\"bimbo.txt\"},{\"chunk_id\":\"1\",\"content\":\"43\\\\u200b\\\\n\\\\n2000 - 2010\\\\nEn el inicio del nuevo siglo, Grupo Bimbo a\\\\u00f1adi\\\\u00f3 nuevas marcas como Plus Vita y Pullman en Brasil (2001),44\\\\u200b Joyco de M\\\\u00e9xico, Alimentos Duval y Lolimen, fabricantes de Duval\\\\u00edn, Bocad\\\\u00edn y Lunetas (2004);45\\\\u200b Pasteler\\\\u00eda El Globo, Pasteler\\\\u00eda El Molino y Chocolates La Corona (2005)46\\\\u200b y Nutrella de Brasil (2008), a su portafolio.47\\\\u200b\\\\n\\\\nAsimismo, en 2006 la compa\\\\u00f1\\\\u00eda comenz\\\\u00f3 su incursi\\\\u00f3n en el mercado asi\\\\u00e1tico con la adquisici\\\\u00f3n de la panificadora Panrico en Beijing, China;48\\\\u200b y extendi\\\\u00f3 su presencia en Estados Unidos con la compra del negocio de panificaci\\\\u00f3n de George Weston Limited, empresa propietaria de las marcas Thomas, Oroweat, Arnold, Boboli, Stro\",\"filepath\":\"bimbo.txt\",\"metadata\":null,\"score\":0.016129032258064516,\"title\":\"Grupo Bimbo\",\"url\":\"bimbo.txt\"},{\"chunk_id\":\"0\",\"content\":\"Title: Grupo Bimbo\\\\n\\\\nGrupo Bimbo\\\\n\\\\nGrupo Bimbo, S.A.B. de C.V. (simplemente conocida como Bimbo), es una empresa multinacional mexicana fundada el 2 de diciembre de 1945 en la Ciudad de M\\\\u00e9xico,2\\\\u200b que tiene presencia en 45 pa\\\\u00edses de Am\\\\u00e9rica, Europa, Asia y \\\\u00c1frica3\\\\u200b y cuenta con un volumen de ventas anuales de 19.8 mil millones de d\\\\u00f3lares.4\\\\u200b Cotiza sus acciones en la Bolsa Mexicana de Valores, bajo la clave BIMBO.5\\\\u200b\\\\n\\\\nLa empresa cuenta con m\\\\u00e1s de 139 mil colaboradores,6\\\\u200b204 plantas panificadoras,\\\\u200b 3.3 millones de puntos de venta y una red de distribuci\\\\u00f3n con 55 mil rutas en todo el planeta.8\\\\u200b Asimismo, Grupo Bimbo opera m\\\\u00e1s de 100 marcas y m\\\\u00e1s de 9 mil productos alrededor del mundo,9\\\\u200b entre los que destacan: Bimbo, T\\\\u00eda Rosa, Entenmann\\\\u00b4s, Pullman, Rainbo, Nutrella, Marinela, Oroweat, Sara Lee, Thomas\\\\u00b4, Arnold y Barcel, por mencionar algunas.10\\\\u200b Dentro de sus asociaciones estrat\\\\u00e9gicas se encuentran \\\\u00abAlicorp\\\\u00bb (Per\\\\u00fa), \\\\u00abBlue Label\\\\u00bb (M\\\\u00e9xico), \\\\u00abFincom\\\\u00fan\\\\u00bb, \\\\u00abGalletas La Moderna\\\\u00bb, \\\\u00abGrupo Nutresa\\\\u00bb (Colombia), \\\\u00abMundo Dulce\\\\u00bb (\\\\u00abArcor\\\\u00bb) (Argentina), \\\\u00abPanGlo\\\\u00bb y \\\\u00abRich\\'s\\\\u00bb.11\\\\u200b\\\\n\\\\nDesde 1997, Daniel Servitje Montull fung\\\\u00eda como director general y, desde 2013, como el presidente del Consejo.12\\\\u200bA partir de 2024, actual Presidente Ejecutivo de Grupo Bimbo.\\\\n\\\\nHistoria\\\\nGrupo Bimbo inici\\\\u00f3 operaciones en M\\\\u00e9xico el d\\\\u00eda 5 de diciembre de 1945, con el nombre oficial de Panificaci\\\\u00f3n Bimbo, S.A.13\\\\u200b La compa\\\\u00f1\\\\u00eda comenz\\\\u00f3 con 34 empleados,14\\\\u200b vendiendo pan de caja blanco (grande y chico), pan tostado y pan negro, envueltos en celof\\\\u00e1n.15\\\\u200b Lorenzo Servitje Sendra junto con Jos\\\\u00e9 T. Mata, Jaime Sendra Grimau, Jaime Jorba Sendra y Alfonso Velasco fueron los socios que comenzaron esta empresa de panificaci\\\\u00f3n.14\\\\u200b16\\\\u200b\\\\n\\\\nEl nombre Bimbo fue elegido entre otras candidatos como PanRex, Pan NSE (por Nutritivo Sabroso y Econ\\\\u00f3mico), Sabrosoy, Pan Lirio y Pan Azteca.17\\\\u200b Tiempo despu\\\\u00e9s los fundadores se enteraron de que Bimbo tambi\\\\u00e9n es la manera coloquial en que los italianos le dicen a los ni\\\\u00f1os (acortado de bambino) y que en China el fonema para designar al pan, es casi id\\\\u00e9ntico al nombre de la marca.18\\\\u200b\\\\n\\\\nDe igual manera, el embajador de la marca, el Osito Bimbo, naci\\\\u00f3 en 1945, con la participaci\\\\u00f3n de los socios fundadores.19\\\\u200b Todo comenz\\\\u00f3 con el dibujo de un oso en una tarjeta de Navidad que lleg\\\\u00f3 a Jaime Jorba. Anita Mata, esposa de Jaime Sendra, fue quien a\\\\u00f1adi\\\\u00f3 sus rasgos caracter\\\\u00edsticos que son el gorro, el delantal y el pan bajo el brazo.20\\\\u200b Por \\\\u00faltimo, Alfonso Velasco arregl\\\\u00f3 la forma de la nariz para completar este personaje que representa limpieza, blancura y suavidad\",\"filepath\":\"bimbo.txt\",\"metadata\":null,\"score\":0.015873015873015872,\"title\":\"Grupo Bimbo\",\"url\":\"bimbo.txt\"}],\"reply\":\"\\\\u00bfCu\\\\u00e1ndo se fund\\\\u00f3 Grupo Bimbo y cu\\\\u00e1les son algunas de sus marcas destacadas?\"}\\n'"
      ]
     },
     "execution_count": 13,
     "metadata": {},
     "output_type": "execute_result"
    }
   ],
   "source": [
    "result"
   ]
  },
  {
   "cell_type": "code",
   "execution_count": null,
   "metadata": {},
   "outputs": [],
   "source": []
  }
 ],
 "metadata": {
  "kernelspec": {
   "display_name": ".venv",
   "language": "python",
   "name": "python3"
  },
  "language_info": {
   "codemirror_mode": {
    "name": "ipython",
    "version": 3
   },
   "file_extension": ".py",
   "mimetype": "text/x-python",
   "name": "python",
   "nbconvert_exporter": "python",
   "pygments_lexer": "ipython3",
   "version": "3.10.14"
  }
 },
 "nbformat": 4,
 "nbformat_minor": 2
}
